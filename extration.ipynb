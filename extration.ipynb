{
 "cells": [
  {
   "cell_type": "code",
   "execution_count": 10,
   "metadata": {},
   "outputs": [
    {
     "name": "stdout",
     "output_type": "stream",
     "text": [
      "Loaded 250 images and 250 masks.\n",
      "   ID bug type         species\n",
      "0   1      Bee  Apis mellifera\n",
      "1   2      Bee  Apis mellifera\n",
      "2   3      Bee  Apis mellifera\n",
      "3   4      Bee  Apis mellifera\n",
      "4   5      Bee  Apis mellifera\n"
     ]
    }
   ],
   "source": [
    "import cv2\n",
    "from PIL import Image\n",
    "import numpy as np\n",
    "import pandas as pd\n",
    "import os\n",
    "\n",
    "img_dir = 'train'\n",
    "mask_dir = 'train/masks'\n",
    "\n",
    "# Load images\n",
    "images = []\n",
    "for i in range(1, 251):\n",
    "    img_path = os.path.join(img_dir, f\"{i}.jpg\")\n",
    "    img = cv2.imread(img_path)\n",
    "    img = cv2.cvtColor(img, cv2.COLOR_BGR2RGB)  # Convert from BGR to RGB format\n",
    "    images.append(img)\n",
    "\n",
    "# Load masks\n",
    "masks = []\n",
    "for i in range(1, 251):\n",
    "    mask_path = os.path.join(mask_dir, f\"binary_{i}.tif\")\n",
    "    mask = Image.open(mask_path)\n",
    "    mask = np.array(mask)\n",
    "    masks.append(mask)\n",
    "\n",
    "print(\"Loaded\", len(images), \"images and\", len(masks), \"masks.\")\n",
    "\n",
    "#loading classif excel\n",
    "excel_file = 'train/classif.xlsx'\n",
    "classif_df = pd.read_excel(excel_file)\n",
    "\n",
    "print(classif_df.head())\n",
    "\n"
   ]
  },
  {
   "cell_type": "code",
   "execution_count": 11,
   "metadata": {},
   "outputs": [],
   "source": [
    "def calculate_symmetry_index(mask):\n",
    "    # Flip the mask horizontally\n",
    "    flipped_mask = np.fliplr(mask)\n",
    "    # Calculate the symmetry as the inverse of the normalized sum of absolute differences\n",
    "    symmetry = 1.0 - (np.sum(np.abs(mask - flipped_mask)) / (2 * np.sum(mask)))\n",
    "    return symmetry\n",
    "\n",
    "symmetry_indices = [calculate_symmetry_index(mask) for mask in masks]\n"
   ]
  },
  {
   "cell_type": "code",
   "execution_count": 12,
   "metadata": {},
   "outputs": [
    {
     "ename": "ValueError",
     "evalue": "too many values to unpack (expected 2)",
     "output_type": "error",
     "traceback": [
      "\u001b[0;31m---------------------------------------------------------------------------\u001b[0m",
      "\u001b[0;31mValueError\u001b[0m                                Traceback (most recent call last)",
      "Cell \u001b[0;32mIn[12], line 12\u001b[0m\n\u001b[1;32m      9\u001b[0m     width, height \u001b[38;5;241m=\u001b[39m find_longest_line(mask)\n\u001b[1;32m     10\u001b[0m     \u001b[38;5;28;01mreturn\u001b[39;00m \u001b[38;5;28mmin\u001b[39m(width, height) \u001b[38;5;241m/\u001b[39m \u001b[38;5;28mmax\u001b[39m(width, height)\n\u001b[0;32m---> 12\u001b[0m ratios_of_longest_lines \u001b[38;5;241m=\u001b[39m [\u001b[43mratio_of_longest_lines\u001b[49m\u001b[43m(\u001b[49m\u001b[43mmask\u001b[49m\u001b[43m)\u001b[49m \u001b[38;5;28;01mfor\u001b[39;00m mask \u001b[38;5;129;01min\u001b[39;00m masks]\n",
      "Cell \u001b[0;32mIn[12], line 9\u001b[0m, in \u001b[0;36mratio_of_longest_lines\u001b[0;34m(mask)\u001b[0m\n\u001b[1;32m      8\u001b[0m \u001b[38;5;28;01mdef\u001b[39;00m \u001b[38;5;21mratio_of_longest_lines\u001b[39m(mask):\n\u001b[0;32m----> 9\u001b[0m     width, height \u001b[38;5;241m=\u001b[39m \u001b[43mfind_longest_line\u001b[49m\u001b[43m(\u001b[49m\u001b[43mmask\u001b[49m\u001b[43m)\u001b[49m\n\u001b[1;32m     10\u001b[0m     \u001b[38;5;28;01mreturn\u001b[39;00m \u001b[38;5;28mmin\u001b[39m(width, height) \u001b[38;5;241m/\u001b[39m \u001b[38;5;28mmax\u001b[39m(width, height)\n",
      "Cell \u001b[0;32mIn[12], line 4\u001b[0m, in \u001b[0;36mfind_longest_line\u001b[0;34m(mask)\u001b[0m\n\u001b[1;32m      1\u001b[0m \u001b[38;5;28;01mdef\u001b[39;00m \u001b[38;5;21mfind_longest_line\u001b[39m(mask):\n\u001b[1;32m      2\u001b[0m     \u001b[38;5;66;03m# Find all nonzero (bug) pixel positions\u001b[39;00m\n\u001b[1;32m      3\u001b[0m     indices \u001b[38;5;241m=\u001b[39m np\u001b[38;5;241m.\u001b[39margwhere(mask)\n\u001b[0;32m----> 4\u001b[0m     min_y, min_x \u001b[38;5;241m=\u001b[39m indices\u001b[38;5;241m.\u001b[39mmin(axis\u001b[38;5;241m=\u001b[39m\u001b[38;5;241m0\u001b[39m)\n\u001b[1;32m      5\u001b[0m     max_y, max_x \u001b[38;5;241m=\u001b[39m indices\u001b[38;5;241m.\u001b[39mmax(axis\u001b[38;5;241m=\u001b[39m\u001b[38;5;241m0\u001b[39m)\n\u001b[1;32m      6\u001b[0m     \u001b[38;5;28;01mreturn\u001b[39;00m (max_x \u001b[38;5;241m-\u001b[39m min_x), (max_y \u001b[38;5;241m-\u001b[39m min_y)\n",
      "\u001b[0;31mValueError\u001b[0m: too many values to unpack (expected 2)"
     ]
    }
   ],
   "source": [
    "def find_longest_line(mask):\n",
    "    # Find all nonzero (bug) pixel positions\n",
    "    indices = np.argwhere(mask)\n",
    "    min_y, min_x = indices.min(axis=0)\n",
    "    max_y, max_x = indices.max(axis=0)\n",
    "    return (max_x - min_x), (max_y - min_y)\n",
    "\n",
    "def ratio_of_longest_lines(mask):\n",
    "    width, height = find_longest_line(mask)\n",
    "    return min(width, height) / max(width, height)\n",
    "\n",
    "ratios_of_longest_lines = [ratio_of_longest_lines(mask) for mask in masks]\n"
   ]
  },
  {
   "cell_type": "code",
   "execution_count": 13,
   "metadata": {},
   "outputs": [],
   "source": [
    "def calculate_pixel_ratio(image, mask):\n",
    "    bug_pixels = np.sum(mask)\n",
    "    total_pixels = image.shape[0] * image.shape[1]\n",
    "    return bug_pixels / total_pixels\n",
    "\n",
    "pixel_ratios = [calculate_pixel_ratio(images[i], masks[i]) for i in range(len(images))]\n"
   ]
  },
  {
   "cell_type": "code",
   "execution_count": 14,
   "metadata": {},
   "outputs": [],
   "source": [
    "def calculate_color_stats(image, mask):\n",
    "    masked_image = image[mask > 0]  # Apply mask to image\n",
    "    min_vals = masked_image.min(axis=0)\n",
    "    max_vals = masked_image.max(axis=0)\n",
    "    mean_vals = masked_image.mean(axis=0)\n",
    "    return min_vals, max_vals, mean_vals\n",
    "\n",
    "color_stats = [calculate_color_stats(images[i], masks[i]) for i in range(len(images))]\n"
   ]
  },
  {
   "cell_type": "code",
   "execution_count": 15,
   "metadata": {},
   "outputs": [],
   "source": [
    "def calculate_color_median_std(image, mask):\n",
    "    masked_image = image[mask > 0]  # Apply mask to image\n",
    "    median_vals = np.median(masked_image, axis=0)\n",
    "    std_vals = masked_image.std(axis=0)\n",
    "    return median_vals, std_vals\n",
    "\n",
    "color_medians_stds = [calculate_color_median_std(images[i], masks[i]) for i in range(len(images))]\n"
   ]
  },
  {
   "cell_type": "code",
   "execution_count": 18,
   "metadata": {},
   "outputs": [],
   "source": [
    "from skimage.feature import graycomatrix, graycoprops\n",
    "from skimage.color import rgb2gray\n",
    "from skimage.measure import shannon_entropy\n",
    "\n",
    "# Example custom feature: texture contrast and entropy\n",
    "def calculate_texture_features(image, mask):\n",
    "    # Convert image to grayscale\n",
    "    gray_image = rgb2gray(image)\n",
    "    # Calculate Gray-Level Co-occurrence Matrix (GLCM) and derive texture properties\n",
    "    glcm = graycomatrix((gray_image * 255).astype('uint8'), distances=[5], angles=[0], symmetric=True, normed=True)\n",
    "    contrast = graycoprops(glcm, 'contrast')[0, 0]\n",
    "    entropy = shannon_entropy(mask)\n",
    "    return contrast, entropy\n",
    "\n",
    "texture_features = [calculate_texture_features(images[i], masks[i]) for i in range(len(images))]\n"
   ]
  },
  {
   "cell_type": "code",
   "execution_count": 19,
   "metadata": {},
   "outputs": [
    {
     "name": "stdout",
     "output_type": "stream",
     "text": [
      "Symmetry index: 0.4980392156862745\n",
      "Ratio of bug pixels to total pixels: 5.9585\n",
      "Min RGB values within the bug mask: [0 0 0]\n",
      "Max RGB values within the bug mask: [255 255 255]\n",
      "Mean RGB values within the bug mask: [127.06082382 101.62600571  77.42946683]\n",
      "Median RGB values within the bug mask: [125.  96.  63.]\n",
      "Standard deviation of RGB values within the bug mask: [62.59178458 60.36123553 59.83946465]\n",
      "Texture contrast: 121.04977894078397\n",
      "Texture entropy: 0.15994742607236198\n"
     ]
    }
   ],
   "source": [
    "# Symmetry index\n",
    "symmetry_index = calculate_symmetry_index(mask)\n",
    "print(f\"Symmetry index: {symmetry_index}\")\n",
    "\n",
    "# Ratio of longest orthogonal lines\n",
    "#longest_line_ratio = ratio_of_longest_lines(mask)\n",
    "#print(f\"Ratio of longest orthogonal lines: {longest_line_ratio}\")\n",
    "\n",
    "# Pixel ratio\n",
    "pixel_ratio = calculate_pixel_ratio(img, mask)\n",
    "print(f\"Ratio of bug pixels to total pixels: {pixel_ratio}\")\n",
    "\n",
    "# Color statistics\n",
    "min_vals, max_vals, mean_vals = calculate_color_stats(img, mask)\n",
    "print(f\"Min RGB values within the bug mask: {min_vals}\")\n",
    "print(f\"Max RGB values within the bug mask: {max_vals}\")\n",
    "print(f\"Mean RGB values within the bug mask: {mean_vals}\")\n",
    "\n",
    "# Median and standard deviation for RGB\n",
    "median_vals, std_vals = calculate_color_median_std(img, mask)\n",
    "print(f\"Median RGB values within the bug mask: {median_vals}\")\n",
    "print(f\"Standard deviation of RGB values within the bug mask: {std_vals}\")\n",
    "\n",
    "# Custom features (texture contrast and entropy)\n",
    "contrast, entropy = calculate_texture_features(img, mask)\n",
    "print(f\"Texture contrast: {contrast}\")\n",
    "print(f\"Texture entropy: {entropy}\")"
   ]
  }
 ],
 "metadata": {
  "kernelspec": {
   "display_name": "Python 3",
   "language": "python",
   "name": "python3"
  },
  "language_info": {
   "codemirror_mode": {
    "name": "ipython",
    "version": 3
   },
   "file_extension": ".py",
   "mimetype": "text/x-python",
   "name": "python",
   "nbconvert_exporter": "python",
   "pygments_lexer": "ipython3",
   "version": "3.12.2"
  }
 },
 "nbformat": 4,
 "nbformat_minor": 2
}
