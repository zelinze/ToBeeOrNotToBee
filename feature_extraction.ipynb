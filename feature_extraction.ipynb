{
 "cells": [
  {
   "cell_type": "code",
   "execution_count": 1,
   "metadata": {},
   "outputs": [
    {
     "name": "stdout",
     "output_type": "stream",
     "text": [
      "Loaded 250 images and 250 masks.\n",
      "   ID bug type         species\n",
      "0   1      Bee  Apis mellifera\n",
      "1   2      Bee  Apis mellifera\n",
      "2   3      Bee  Apis mellifera\n",
      "3   4      Bee  Apis mellifera\n",
      "4   5      Bee  Apis mellifera\n"
     ]
    }
   ],
   "source": [
    "import cv2 \n",
    "from PIL import Image \n",
    "import numpy as np \n",
    "import pandas as pd \n",
    "import os\n",
    "\n",
    "img_dir = 'train'\n",
    "mask_dir = 'train/masks'\n",
    "excel_file = 'train/classif.xlsx'\n",
    "\n",
    "# Load images\n",
    "def load_images(img_dir, count):\n",
    "    images = []\n",
    "    for i in range(1, count + 1):\n",
    "        img_path = os.path.join(img_dir, f\"{i}.jpg\")\n",
    "        if os.path.exists(img_path):\n",
    "            img = cv2.imread(img_path)\n",
    "            img = cv2.cvtColor(img, cv2.COLOR_BGR2RGB)  # Convert from BGR to RGB format\n",
    "            images.append(img)\n",
    "        else:\n",
    "            print(f\"Image {img_path} not found.\")\n",
    "    return images\n",
    "\n",
    "# Load masks\n",
    "def load_masks(mask_dir, count):\n",
    "    masks = []\n",
    "    for i in range(1, count + 1):\n",
    "        mask_path = os.path.join(mask_dir, f\"binary_{i}.tif\")\n",
    "        if os.path.exists(mask_path):\n",
    "            mask = Image.open(mask_path)\n",
    "            mask = np.array(mask)\n",
    "            masks.append(mask)\n",
    "        else:\n",
    "            print(f\"Mask {mask_path} not found.\")\n",
    "    return masks\n",
    "\n",
    "# Load classification file\n",
    "def load_classification(excel_file):\n",
    "    if os.path.exists(excel_file):\n",
    "        return pd.read_excel(excel_file)\n",
    "    else:\n",
    "        print(f\"Excel file {excel_file} not found.\")\n",
    "        return None\n",
    "    \n",
    "# Print        \n",
    "images = load_images(img_dir, 250)\n",
    "masks = load_masks(mask_dir, 250)\n",
    "classif_df = load_classification(excel_file)    \n",
    "\n",
    "print(f\"Loaded {len(images)} images and {len(masks)} masks.\")\n",
    "print(classif_df.head())\n",
    "\n"
   ]
  },
  {
   "cell_type": "code",
   "execution_count": 2,
   "metadata": {},
   "outputs": [
    {
     "name": "stdout",
     "output_type": "stream",
     "text": [
      "Symmetry index for mask 1: 0.8047209080745074\n",
      "Symmetry index for mask 2: 0.7722734849598822\n",
      "Symmetry index for mask 3: 0.5936187782533617\n",
      "Symmetry index for mask 4: 0.48781922170811365\n",
      "Symmetry index for mask 5: 0.6667178811660399\n",
      "Symmetry index for mask 6: 0.48815425944645374\n",
      "Symmetry index for mask 7: 0.48343662413795563\n",
      "Symmetry index for mask 8: 0.4853059999185443\n",
      "Symmetry index for mask 9: 0.6095427397800142\n",
      "Symmetry index for mask 10: 0.6493464145627762\n"
     ]
    }
   ],
   "source": [
    "\"\"\" Symmetry index \"\"\"\n",
    "def calculate_symmetry_index(mask):\n",
    "\n",
    "    # Flip the mask horizontally\n",
    "    flipped_mask = np.fliplr(mask)\n",
    "\n",
    "    # Calculate the symmetry as the inverse of the normalized sum of absolute differences\n",
    "    symmetry = 1.0 - (np.sum(np.abs(mask - flipped_mask)) / (2 * np.sum(mask)))\n",
    "    return symmetry\n",
    "\n",
    "# Apply the function to all\n",
    "# IMPORTANT the putout of this function, a list for symmetry_indices and certain value for symmetry_index\n",
    "symmetry_index = calculate_symmetry_index(masks[0])\n",
    "symmetry_indices = [calculate_symmetry_index(mask) for mask in masks]\n",
    "\n",
    "# Print first 10 symmetry indices\n",
    "for i, si in enumerate(symmetry_indices[:10]):  # Print first 10 symmetry indices\n",
    "    print(f\"Symmetry index for mask {i+1}: {si}\")\n",
    "\n",
    "# 创建一个DataFrame用于存储对称性指数\n",
    "# symmetry_df = pd.DataFrame(symmetry_indices, columns=['SymmetryIndex'])\n",
    "# 合并对称性指数到您的特征集\n",
    "# 假设其他特征集data_features已经存在\n",
    "# data_features = pd.DataFrame(...) # 这里填充您已有的特征集\n",
    "# data_features = pd.DataFrame({'ID': range(1, 251)})  # 示例特征集\n",
    "# data_features = pd.concat([data_features, symmetry_df], axis=1)\n",
    "# Save to CSV for verification\n",
    "#classif_df.to_csv('symmetry_index.csv', index=False)\n",
    "# 打印合并后的特征集\n",
    "# print(data_features.head())"
   ]
  },
  {
   "cell_type": "code",
   "execution_count": 3,
   "metadata": {},
   "outputs": [
    {
     "name": "stdout",
     "output_type": "stream",
     "text": [
      "Longest orthogonal ratio for mask 1: 0.8210185892043161\n",
      "Longest orthogonal ratio for mask 2: 0.6756187527305683\n",
      "Longest orthogonal ratio for mask 3: 0.8051959270203646\n",
      "Longest orthogonal ratio for mask 4: 0.7093345658298247\n",
      "Longest orthogonal ratio for mask 5: 0.7440569563316096\n",
      "Longest orthogonal ratio for mask 6: 0.9661990308475512\n",
      "Longest orthogonal ratio for mask 7: 0.4512559361622812\n",
      "Longest orthogonal ratio for mask 8: 0.33333332645824193\n",
      "Longest orthogonal ratio for mask 9: 0.9446961528654619\n",
      "Longest orthogonal ratio for mask 10: 0.7962038272225026\n"
     ]
    }
   ],
   "source": [
    "\"\"\" Ratio of longest orthogonal lines \"\"\"\n",
    "def longest_orthogonal_ratio(mask):\n",
    "    if len(mask.shape) == 3:\n",
    "        mask = cv2.cvtColor(mask, cv2.COLOR_BGR2GRAY)\n",
    "    _, binary_mask = cv2.threshold(mask, 127, 255, cv2.THRESH_BINARY)\n",
    "    \n",
    "    contours, _ = cv2.findContours(binary_mask, cv2.RETR_EXTERNAL, cv2.CHAIN_APPROX_SIMPLE)\n",
    "    if contours and len(contours) > 0: # findContours: Find the outline of the bug in the image\n",
    "        rect = cv2.minAreaRect(contours[0]) # minAreaRect: find Minimum Bounding Rectangle\n",
    "        width, height = rect[1] \n",
    "        if width == 0 or height == 0:\n",
    "            return 0\n",
    "        else:\n",
    "            return min(width, height) / max(width, height) # calcule ratio by height/width\n",
    "    return 0\n",
    "\n",
    "# Calculate the ratio for all masks\n",
    "longest_orthogonal_ratios = [longest_orthogonal_ratio(mask) for mask in masks]\n",
    "\n",
    "# Print first 10 ratios\n",
    "for i, ratio in enumerate(longest_orthogonal_ratios[:10]):\n",
    "    print(f\"Longest orthogonal ratio for mask {i+1}: {ratio}\")\n",
    "\n",
    "# Create a DataFrame to store the longest orthogonal ratios\n",
    "#orthogonal_ratio_df = pd.DataFrame(longest_orthogonal_ratios, columns=['LongestOrthogonalRatio'])\n",
    "# Merge the new feature with the classification DataFrame\n",
    "#classif_df = pd.concat([classif_df, orthogonal_ratio_df], axis=1)\n",
    "# Save to CSV for verification\n",
    "#classif_df.to_csv('features_with_orthogonal_ratio.csv', index=False)\n",
    "# Print the head of the updated DataFrame\n",
    "#print(classif_df.head())"
   ]
  },
  {
   "cell_type": "code",
   "execution_count": 4,
   "metadata": {},
   "outputs": [
    {
     "name": "stdout",
     "output_type": "stream",
     "text": [
      "Bug to total pixel ratio for mask 1: 0.022284125\n",
      "Bug to total pixel ratio for mask 2: 0.025659\n",
      "Bug to total pixel ratio for mask 3: 0.066279375\n",
      "Bug to total pixel ratio for mask 4: 0.039562125\n",
      "Bug to total pixel ratio for mask 5: 0.027493875\n",
      "Bug to total pixel ratio for mask 6: 0.0177505\n",
      "Bug to total pixel ratio for mask 7: 0.01697625\n",
      "Bug to total pixel ratio for mask 8: 0.02236225\n",
      "Bug to total pixel ratio for mask 9: 0.02159825\n",
      "Bug to total pixel ratio for mask 10: 0.047350375\n"
     ]
    }
   ],
   "source": [
    "\"\"\" Ratio of bug pixels to total pixels \"\"\"\n",
    "def bug_to_total_ratio(mask):\n",
    "    bug_pixels = np.sum(mask > 0)  # Count the number of pixels for bugs\n",
    "    total_pixels = mask.shape[0] * mask.shape[1]  # Calculate the total number of pixels\n",
    "    return bug_pixels / total_pixels  # devid\n",
    "\n",
    "# Calculate the ratio for all\n",
    "bug_to_total_ratios = [bug_to_total_ratio(mask) for mask in masks]\n",
    "\n",
    "# Print first 10 ratios\n",
    "for i, ratio in enumerate(bug_to_total_ratios[:10]):\n",
    "    print(f\"Bug to total pixel ratio for mask {i+1}: {ratio}\")\n",
    "\n",
    "# Create a DataFrame to store the bug to total pixel ratios\n",
    "#bug_to_total_ratio_df = pd.DataFrame(bug_to_total_ratios, columns=['BugToTotalPixelRatio'])\n",
    "# Assuming classif_df is already loaded and contains previous features\n",
    "# Merge the new feature with the classification DataFrame\n",
    "#classif_df = pd.concat([classif_df, bug_to_total_ratio_df], axis=1)\n",
    "# Save the updated DataFrame to a CSV file for verification\n",
    "#classif_df.to_csv('features_with_bug_to_total_ratio.csv', index=False)\n",
    "# Print the head of the updated DataFrame to check the new feature\n",
    "#print(classif_df.head())\n"
   ]
  },
  {
   "cell_type": "code",
   "execution_count": 5,
   "metadata": {},
   "outputs": [
    {
     "ename": "ValueError",
     "evalue": "zero-dimensional arrays cannot be concatenated",
     "output_type": "error",
     "traceback": [
      "\u001b[0;31m---------------------------------------------------------------------------\u001b[0m",
      "\u001b[0;31mValueError\u001b[0m                                Traceback (most recent call last)",
      "Cell \u001b[0;32mIn[5], line 17\u001b[0m\n\u001b[1;32m     15\u001b[0m color_stats \u001b[38;5;241m=\u001b[39m []\n\u001b[1;32m     16\u001b[0m \u001b[38;5;28;01mfor\u001b[39;00m i \u001b[38;5;129;01min\u001b[39;00m \u001b[38;5;28mrange\u001b[39m(\u001b[38;5;28mlen\u001b[39m(images)):\n\u001b[0;32m---> 17\u001b[0m     stats \u001b[38;5;241m=\u001b[39m \u001b[43mcalculate_color_stats\u001b[49m\u001b[43m(\u001b[49m\u001b[43mimages\u001b[49m\u001b[43m[\u001b[49m\u001b[43mi\u001b[49m\u001b[43m]\u001b[49m\u001b[43m,\u001b[49m\u001b[43m \u001b[49m\u001b[43mmasks\u001b[49m\u001b[43m[\u001b[49m\u001b[43mi\u001b[49m\u001b[43m]\u001b[49m\u001b[43m)\u001b[49m\n\u001b[1;32m     18\u001b[0m     color_stats\u001b[38;5;241m.\u001b[39mappend(stats)\n\u001b[1;32m     19\u001b[0m     \u001b[38;5;28mprint\u001b[39m(\u001b[38;5;124mf\u001b[39m\u001b[38;5;124m\"\u001b[39m\u001b[38;5;124mImage \u001b[39m\u001b[38;5;132;01m{\u001b[39;00mi\u001b[38;5;241m+\u001b[39m\u001b[38;5;241m1\u001b[39m\u001b[38;5;132;01m}\u001b[39;00m\u001b[38;5;124m stats: \u001b[39m\u001b[38;5;132;01m{\u001b[39;00mstats\u001b[38;5;132;01m}\u001b[39;00m\u001b[38;5;124m\"\u001b[39m)  \u001b[38;5;66;03m# 调试输出每个图像的统计值\u001b[39;00m\n",
      "Cell \u001b[0;32mIn[5], line 12\u001b[0m, in \u001b[0;36mcalculate_color_stats\u001b[0;34m(image, mask)\u001b[0m\n\u001b[1;32m     10\u001b[0m max_vals \u001b[38;5;241m=\u001b[39m masked_image\u001b[38;5;241m.\u001b[39mmax(axis\u001b[38;5;241m=\u001b[39m\u001b[38;5;241m0\u001b[39m)\n\u001b[1;32m     11\u001b[0m mean_vals \u001b[38;5;241m=\u001b[39m masked_image\u001b[38;5;241m.\u001b[39mmean(axis\u001b[38;5;241m=\u001b[39m\u001b[38;5;241m0\u001b[39m)\n\u001b[0;32m---> 12\u001b[0m \u001b[38;5;28;01mreturn\u001b[39;00m \u001b[43mnp\u001b[49m\u001b[38;5;241;43m.\u001b[39;49m\u001b[43mconcatenate\u001b[49m\u001b[43m(\u001b[49m\u001b[43m[\u001b[49m\u001b[43mmin_vals\u001b[49m\u001b[43m,\u001b[49m\u001b[43m \u001b[49m\u001b[43mmax_vals\u001b[49m\u001b[43m,\u001b[49m\u001b[43m \u001b[49m\u001b[43mmean_vals\u001b[49m\u001b[43m]\u001b[49m\u001b[43m)\u001b[49m\n",
      "\u001b[0;31mValueError\u001b[0m: zero-dimensional arrays cannot be concatenated"
     ]
    }
   ],
   "source": [
    "import numpy as np\n",
    "import pandas as pd\n",
    "\n",
    "# 计算在虫子掩码区域内的RGB统计值的函数\n",
    "def calculate_color_stats(image, mask):\n",
    "    masked_image = image[mask > 0]  # 将掩码应用到图像上\n",
    "    if masked_image.size == 0:  # 如果掩码区域内没有有效的像素\n",
    "        return np.zeros(9)  # 返回全零的数组，防止出现零维数组错误\n",
    "    min_vals = masked_image.min(axis=0)\n",
    "    max_vals = masked_image.max(axis=0)\n",
    "    mean_vals = masked_image.mean(axis=0)\n",
    "    return np.concatenate([min_vals, max_vals, mean_vals])\n",
    "\n",
    "# 计算所有图像的RGB统计值\n",
    "color_stats = []\n",
    "for i in range(len(images)):\n",
    "    stats = calculate_color_stats(images[i], masks[i])\n",
    "    color_stats.append(stats)\n",
    "    print(f\"Image {i+1} stats: {stats}\")  # 调试输出每个图像的统计值\n",
    "\n",
    "# 将结果转为DataFrame\n",
    "color_stats_df = pd.DataFrame(color_stats, columns=['Red_min', 'Green_min', 'Blue_min', 'Red_max', 'Green_max', 'Blue_max', 'Red_mean', 'Green_mean', 'Blue_mean'])\n",
    "\n",
    "# 假设classif_df已经加载并包含之前的特征\n",
    "# 将新的RGB统计特征合并到分类DataFrame中\n",
    "classif_df = pd.concat([classif_df, color_stats_df], axis=1)\n",
    "\n",
    "# 保存更新后的DataFrame到CSV文件以便验证\n",
    "classif_df.to_csv('features_with_rgb_statistics.csv', index=False)\n",
    "\n",
    "# 打印更新后的DataFrame的前几行以检查新特征\n",
    "print(classif_df.head())\n"
   ]
  },
  {
   "cell_type": "code",
   "execution_count": null,
   "metadata": {},
   "outputs": [],
   "source": [
    "def calculate_color_median_std(image, mask):\n",
    "    masked_image = image[mask > 0]  # Apply mask to image\n",
    "    median_vals = np.median(masked_image, axis=0)\n",
    "    std_vals = masked_image.std(axis=0)\n",
    "    return median_vals, std_vals\n",
    "\n",
    "color_medians_stds = [calculate_color_median_std(images[i], masks[i]) for i in range(len(images))]\n"
   ]
  },
  {
   "cell_type": "code",
   "execution_count": null,
   "metadata": {},
   "outputs": [],
   "source": [
    "from skimage.feature import graycomatrix, graycoprops\n",
    "from skimage.color import rgb2gray\n",
    "from skimage.measure import shannon_entropy\n",
    "\n",
    "# Example custom feature: texture contrast and entropy\n",
    "def calculate_texture_features(image, mask):\n",
    "    # Convert image to grayscale\n",
    "    gray_image = rgb2gray(image)\n",
    "    # Calculate Gray-Level Co-occurrence Matrix (GLCM) and derive texture properties\n",
    "    glcm = graycomatrix((gray_image * 255).astype('uint8'), distances=[5], angles=[0], symmetric=True, normed=True)\n",
    "    contrast = graycoprops(glcm, 'contrast')[0, 0]\n",
    "    entropy = shannon_entropy(mask)\n",
    "    return contrast, entropy\n",
    "\n",
    "texture_features = [calculate_texture_features(images[i], masks[i]) for i in range(len(images))]\n"
   ]
  },
  {
   "cell_type": "code",
   "execution_count": null,
   "metadata": {},
   "outputs": [
    {
     "name": "stdout",
     "output_type": "stream",
     "text": [
      "Symmetry index: 0.4980392156862745\n",
      "Ratio of bug pixels to total pixels: 5.9585\n",
      "Min RGB values within the bug mask: [0 0 0]\n",
      "Max RGB values within the bug mask: [255 255 255]\n",
      "Mean RGB values within the bug mask: [127.06082382 101.62600571  77.42946683]\n",
      "Median RGB values within the bug mask: [125.  96.  63.]\n",
      "Standard deviation of RGB values within the bug mask: [62.59178458 60.36123553 59.83946465]\n",
      "Texture contrast: 121.04977894078397\n",
      "Texture entropy: 0.15994742607236198\n"
     ]
    }
   ],
   "source": [
    "# Symmetry index\n",
    "symmetry_index = calculate_symmetry_index(mask)\n",
    "print(f\"Symmetry index: {symmetry_index}\")\n",
    "\n",
    "# Ratio of longest orthogonal lines\n",
    "#longest_line_ratio = ratio_of_longest_lines(mask)\n",
    "#print(f\"Ratio of longest orthogonal lines: {longest_line_ratio}\")\n",
    "\n",
    "# Pixel ratio\n",
    "pixel_ratio = calculate_pixel_ratio(img, mask)\n",
    "print(f\"Ratio of bug pixels to total pixels: {pixel_ratio}\")\n",
    "\n",
    "# Color statistics\n",
    "min_vals, max_vals, mean_vals = calculate_color_stats(img, mask)\n",
    "print(f\"Min RGB values within the bug mask: {min_vals}\")\n",
    "print(f\"Max RGB values within the bug mask: {max_vals}\")\n",
    "print(f\"Mean RGB values within the bug mask: {mean_vals}\")\n",
    "\n",
    "# Median and standard deviation for RGB\n",
    "median_vals, std_vals = calculate_color_median_std(img, mask)\n",
    "print(f\"Median RGB values within the bug mask: {median_vals}\")\n",
    "print(f\"Standard deviation of RGB values within the bug mask: {std_vals}\")\n",
    "\n",
    "# Custom features (texture contrast and entropy)\n",
    "contrast, entropy = calculate_texture_features(img, mask)\n",
    "print(f\"Texture contrast: {contrast}\")\n",
    "print(f\"Texture entropy: {entropy}\")"
   ]
  }
 ],
 "metadata": {
  "kernelspec": {
   "display_name": "Python 3",
   "language": "python",
   "name": "python3"
  },
  "language_info": {
   "codemirror_mode": {
    "name": "ipython",
    "version": 3
   },
   "file_extension": ".py",
   "mimetype": "text/x-python",
   "name": "python",
   "nbconvert_exporter": "python",
   "pygments_lexer": "ipython3",
   "version": "3.9.6"
  }
 },
 "nbformat": 4,
 "nbformat_minor": 2
}
