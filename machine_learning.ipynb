{
 "cells": [
  {
   "cell_type": "code",
   "execution_count": 1,
   "metadata": {
    "ExecuteTime": {
     "end_time": "2024-05-29T22:09:11.129290Z",
     "start_time": "2024-05-29T22:07:55.640302Z"
    }
   },
   "outputs": [],
   "source": [
    "import cv2 \n",
    "from PIL import Image \n",
    "import numpy as np \n",
    "import pandas as pd \n",
    "import os\n",
    "from sklearn.ensemble import RandomForestClassifier\n",
    "from sklearn.svm import SVC\n",
    "from sklearn.multiclass import OneVsRestClassifier\n",
    "from sklearn.preprocessing import MultiLabelBinarizer\n",
    "from skimage.color import rgb2gray\n",
    "from sklearn.model_selection import train_test_split, cross_val_score\n",
    "from sklearn.metrics import accuracy_score, precision_score, recall_score\n",
    "import torch\n",
    "import torch.nn as nn\n",
    "import torch.optim as optim\n",
    "from torch.utils.data import DataLoader, TensorDataset, random_split\n",
    "from sklearn.model_selection import train_test_split    \n",
    "\n",
    "img_dir = 'train'\n",
    "mask_dir = 'train/masks'\n",
    "excel_file = 'train/classif.xlsx'\n",
    "data_feature_file = 'data_features.csv'\n",
    "\n",
    "# Load images\n",
    "def load_images(img_dir, count):\n",
    "    images = []\n",
    "    for i in range(1, count + 1):\n",
    "        img_path = os.path.join(img_dir, f\"{i}.jpg\")\n",
    "        if os.path.exists(img_path):\n",
    "            img = cv2.imread(img_path)\n",
    "            img = cv2.cvtColor(img, cv2.COLOR_BGR2RGB)  # Convert from BGR to RGB format\n",
    "            images.append(img)\n",
    "        else:\n",
    "            print(f\"Image {img_path} not found.\")\n",
    "    return images\n",
    "\n",
    "# Load masks\n",
    "def load_masks(mask_dir, count):\n",
    "    masks = []\n",
    "    for i in range(1, count + 1):\n",
    "        mask_path = os.path.join(mask_dir, f\"binary_{i}.tif\")\n",
    "        if os.path.exists(mask_path):\n",
    "            mask = Image.open(mask_path)\n",
    "            mask = np.array(mask)\n",
    "            # 检查掩码是否为灰度图像\n",
    "            if mask.ndim == 3:\n",
    "                mask = rgb2gray(mask)\n",
    "            masks.append(mask)\n",
    "            \n",
    "        else:\n",
    "            print(f\"Mask {mask_path} not found.\")\n",
    "    return masks\n",
    "\n",
    "# Load classification file\n",
    "def load_classification(excel_file):\n",
    "    if os.path.exists(excel_file):\n",
    "        return pd.read_excel(excel_file)\n",
    "    else:\n",
    "        print(f\"Excel file {excel_file} not found.\")\n",
    "        return None\n",
    "    \n",
    "# Load features\n",
    "def load_features(data_feature_file):\n",
    "    if os.path.exists(data_feature_file):\n",
    "        return pd.read_csv(data_feature_file)\n",
    "    else:\n",
    "        print(f\"Feature file {data_feature_file} not found.\")\n",
    "        return None    \n",
    "    \n",
    "images = load_images(img_dir, 250)\n",
    "masks = load_masks(mask_dir, 250)\n",
    "classif_df = load_classification(excel_file)   \n",
    "features_df = load_features(data_feature_file)  \n",
    "\n",
    "# 处理标签\n",
    "def process_labels(df):\n",
    "    bug_types = []\n",
    "    species = []\n",
    "    \n",
    "    for _, row in df.iterrows():\n",
    "        bugs = row['bug_type']\n",
    "        species_info = row['species']\n",
    "        \n",
    "        # 处理x2\n",
    "        if ' x2' in species_info:\n",
    "            bugs = [bugs.replace(' x2','')] * 2\n",
    "            species_info = [species_info.replace(' x2','')] * 2\n",
    "        else:\n",
    "            bugs = bugs.split(' & ')\n",
    "            species_info = species_info.split(' & ')\n",
    "        \n",
    "        # 处理问号\n",
    "        bugs = [bug.replace(' ?', '') for bug in bugs]\n",
    "        species_info = [specie.replace(' ?', '') for specie in species_info]\n",
    "        \n",
    "        bug_types.append(bugs)\n",
    "        species.append(species_info)\n",
    "    \n",
    "    df['bug_type'] = bug_types\n",
    "    df['species'] = species\n",
    "    return df\n",
    "\n",
    "classif_df = process_labels(load_classification(excel_file))\n",
    "# 使用MultiLabelBinarizer转换标签\n",
    "mlb_bug_type = MultiLabelBinarizer()\n",
    "mlb_species = MultiLabelBinarizer()\n",
    "bug_type_encoded = mlb_bug_type.fit_transform(classif_df['bug_type'])\n",
    "species_encoded = mlb_species.fit_transform(classif_df['species'])\n",
    "\n",
    "# 转换为DataFrame\n",
    "bug_type_df = pd.DataFrame(bug_type_encoded, columns=mlb_bug_type.classes_)\n",
    "species_df = pd.DataFrame(species_encoded, columns=mlb_species.classes_)\n",
    "#以及其他数据集\n",
    "images = load_images(img_dir, 250)\n",
    "masks = load_masks(mask_dir, 250)\n",
    "features_df = load_features(data_feature_file)  \n",
    "\n",
    "\n",
    "\n",
    "# 合并所有数据\n",
    "all_data_df = pd.concat([classif_df.drop(columns=['bug_type', 'species']), bug_type_df, species_df, features_df], axis=1)\n"
   ]
  },
  {
   "cell_type": "markdown",
   "metadata": {},
   "source": [
    "随机森林和支持向量机部分"
   ]
  },
  {
   "cell_type": "code",
   "execution_count": 4,
   "metadata": {
    "ExecuteTime": {
     "end_time": "2024-05-29T20:54:19.948223Z",
     "start_time": "2024-05-29T20:54:18.034878Z"
    }
   },
   "outputs": [
    {
     "name": "stdout",
     "output_type": "stream",
     "text": [
      "训练集大小: 200, 测试集大小: 50\n",
      "随机森林分类准确度: 0.5\n",
      "支持向量机分类准确度 (One-vs-Rest): 0.42\n"
     ]
    }
   ],
   "source": [
    "# 合并特征和标签数据\n",
    "labels_df = bug_type_df  # 或者使用 species_df 作为标签\n",
    "\n",
    "# 划分训练集和测试集\n",
    "X_train, X_test, y_train, y_test = train_test_split(features_df, labels_df, test_size=0.2, random_state=42)\n",
    "\n",
    "\n",
    "# 训练随机森林分类器\n",
    "rf_classifier = RandomForestClassifier(n_estimators=100, random_state=42)\n",
    "rf_classifier.fit(X_train, y_train)\n",
    "\n",
    "# 预测并计算准确度\n",
    "y_pred_rf = rf_classifier.predict(X_test)\n",
    "accuracy_rf = accuracy_score(y_test, y_pred_rf)\n",
    "print(f\"随机森林分类准确度: {accuracy_rf}\")\n",
    "\n",
    "\n",
    "# 使用OneVsRest策略做svm\n",
    "svm_classifier = OneVsRestClassifier(SVC(kernel='linear', random_state=42))\n",
    "svm_classifier.fit(X_train, y_train)\n",
    "\n",
    "# 预测并计算准确度\n",
    "y_pred_svm = svm_classifier.predict(X_test)\n",
    "\n",
    "# 计算准确度\n",
    "accuracy_svm = accuracy_score(y_test, y_pred_svm)\n",
    "print(f\"支持向量机分类准确度 (One-vs-Rest): {accuracy_svm}\")\n",
    "\n"
   ]
  },
  {
   "cell_type": "code",
   "execution_count": 8,
   "metadata": {},
   "outputs": [
    {
     "name": "stdout",
     "output_type": "stream",
     "text": [
      "Fitting 3 folds for each of 32 candidates, totalling 96 fits\n"
     ]
    },
    {
     "name": "stderr",
     "output_type": "stream",
     "text": [
      "python(51229) MallocStackLogging: can't turn off malloc stack logging because it was not enabled.\n",
      "python(51248) MallocStackLogging: can't turn off malloc stack logging because it was not enabled.\n",
      "python(51252) MallocStackLogging: can't turn off malloc stack logging because it was not enabled.\n",
      "python(51253) MallocStackLogging: can't turn off malloc stack logging because it was not enabled.\n",
      "python(51255) MallocStackLogging: can't turn off malloc stack logging because it was not enabled.\n",
      "python(51256) MallocStackLogging: can't turn off malloc stack logging because it was not enabled.\n",
      "python(51260) MallocStackLogging: can't turn off malloc stack logging because it was not enabled.\n",
      "python(51261) MallocStackLogging: can't turn off malloc stack logging because it was not enabled.\n",
      "python(51262) MallocStackLogging: can't turn off malloc stack logging because it was not enabled.\n",
      "python(51264) MallocStackLogging: can't turn off malloc stack logging because it was not enabled.\n",
      "/opt/miniconda3/envs/tf_env/lib/python3.12/site-packages/sklearn/multiclass.py:90: UserWarning: Label not 3 is present in all training examples.\n",
      "  warnings.warn(\n",
      "/opt/miniconda3/envs/tf_env/lib/python3.12/site-packages/sklearn/multiclass.py:90: UserWarning: Label not 3 is present in all training examples.\n",
      "  warnings.warn(\n",
      "/opt/miniconda3/envs/tf_env/lib/python3.12/site-packages/sklearn/multiclass.py:90: UserWarning: Label not 3 is present in all training examples.\n",
      "  warnings.warn(\n",
      "/opt/miniconda3/envs/tf_env/lib/python3.12/site-packages/sklearn/multiclass.py:90: UserWarning: Label not 3 is present in all training examples.\n",
      "  warnings.warn(\n",
      "/opt/miniconda3/envs/tf_env/lib/python3.12/site-packages/sklearn/multiclass.py:90: UserWarning: Label not 3 is present in all training examples.\n",
      "  warnings.warn(\n",
      "/opt/miniconda3/envs/tf_env/lib/python3.12/site-packages/sklearn/multiclass.py:90: UserWarning: Label not 3 is present in all training examples.\n",
      "  warnings.warn(\n",
      "/opt/miniconda3/envs/tf_env/lib/python3.12/site-packages/sklearn/multiclass.py:90: UserWarning: Label not 3 is present in all training examples.\n",
      "  warnings.warn(\n",
      "/opt/miniconda3/envs/tf_env/lib/python3.12/site-packages/sklearn/multiclass.py:90: UserWarning: Label not 3 is present in all training examples.\n",
      "  warnings.warn(\n"
     ]
    },
    {
     "name": "stdout",
     "output_type": "stream",
     "text": [
      "[CV] END estimator__C=0.1, estimator__gamma=1, estimator__kernel=rbf; total time=   0.0s\n",
      "[CV] END estimator__C=0.1, estimator__gamma=1, estimator__kernel=rbf; total time=   0.0s\n",
      "[CV] END estimator__C=0.1, estimator__gamma=1, estimator__kernel=rbf; total time=   0.0s\n",
      "[CV] END estimator__C=0.1, estimator__gamma=1, estimator__kernel=linear; total time=   0.0s\n",
      "[CV] END estimator__C=0.1, estimator__gamma=0.1, estimator__kernel=rbf; total time=   0.0s\n",
      "[CV] END estimator__C=0.1, estimator__gamma=0.1, estimator__kernel=linear; total time=   0.0s\n",
      "[CV] END estimator__C=0.1, estimator__gamma=1, estimator__kernel=linear; total time=   0.1s\n",
      "[CV] END estimator__C=0.1, estimator__gamma=0.1, estimator__kernel=linear; total time=   0.1s\n",
      "[CV] END estimator__C=0.1, estimator__gamma=0.1, estimator__kernel=rbf; total time=   0.0s\n",
      "[CV] END estimator__C=0.1, estimator__gamma=0.1, estimator__kernel=rbf; total time=   0.0s\n",
      "[CV] END estimator__C=0.1, estimator__gamma=0.01, estimator__kernel=rbf; total time=   0.0s\n",
      "[CV] END estimator__C=0.1, estimator__gamma=0.01, estimator__kernel=rbf; total time=   0.0s\n",
      "[CV] END estimator__C=0.1, estimator__gamma=0.01, estimator__kernel=linear; total time=   0.1s\n",
      "[CV] END estimator__C=0.1, estimator__gamma=0.01, estimator__kernel=rbf; total time=   0.0s\n",
      "[CV] END estimator__C=0.1, estimator__gamma=0.01, estimator__kernel=linear; total time=   0.1s\n",
      "[CV] END estimator__C=0.1, estimator__gamma=0.001, estimator__kernel=rbf; total time=   0.0s\n",
      "[CV] END estimator__C=0.1, estimator__gamma=0.001, estimator__kernel=rbf; total time=   0.0s\n",
      "[CV] END estimator__C=0.1, estimator__gamma=1, estimator__kernel=linear; total time=   0.2s\n",
      "[CV] END estimator__C=0.1, estimator__gamma=0.001, estimator__kernel=rbf; total time=   0.0s\n",
      "[CV] END estimator__C=0.1, estimator__gamma=0.001, estimator__kernel=linear; total time=   0.0s\n",
      "[CV] END estimator__C=0.1, estimator__gamma=0.1, estimator__kernel=linear; total time=   0.2s\n",
      "[CV] END estimator__C=0.1, estimator__gamma=0.001, estimator__kernel=linear; total time=   0.1s\n"
     ]
    },
    {
     "name": "stderr",
     "output_type": "stream",
     "text": [
      "/opt/miniconda3/envs/tf_env/lib/python3.12/site-packages/sklearn/multiclass.py:90: UserWarning: Label not 3 is present in all training examples.\n",
      "  warnings.warn(\n",
      "/opt/miniconda3/envs/tf_env/lib/python3.12/site-packages/sklearn/multiclass.py:90: UserWarning: Label not 3 is present in all training examples.\n",
      "  warnings.warn(\n"
     ]
    },
    {
     "name": "stdout",
     "output_type": "stream",
     "text": [
      "[CV] END estimator__C=1, estimator__gamma=1, estimator__kernel=rbf; total time=   0.0s\n",
      "[CV] END estimator__C=1, estimator__gamma=1, estimator__kernel=rbf; total time=   0.0s\n",
      "[CV] END estimator__C=0.1, estimator__gamma=0.01, estimator__kernel=linear; total time=   0.2s\n",
      "[CV] END estimator__C=1, estimator__gamma=1, estimator__kernel=rbf; total time=   0.0s\n",
      "[CV] END estimator__C=1, estimator__gamma=0.1, estimator__kernel=rbf; total time=   0.0s\n",
      "[CV] END estimator__C=1, estimator__gamma=0.1, estimator__kernel=rbf; total time=   0.0s\n",
      "[CV] END estimator__C=0.1, estimator__gamma=0.001, estimator__kernel=linear; total time=   0.2s\n",
      "[CV] END estimator__C=1, estimator__gamma=0.1, estimator__kernel=rbf; total time=   0.0s\n"
     ]
    },
    {
     "name": "stderr",
     "output_type": "stream",
     "text": [
      "/opt/miniconda3/envs/tf_env/lib/python3.12/site-packages/sklearn/multiclass.py:90: UserWarning: Label not 3 is present in all training examples.\n",
      "  warnings.warn(\n",
      "/opt/miniconda3/envs/tf_env/lib/python3.12/site-packages/sklearn/multiclass.py:90: UserWarning: Label not 3 is present in all training examples.\n",
      "  warnings.warn(\n"
     ]
    },
    {
     "name": "stdout",
     "output_type": "stream",
     "text": [
      "[CV] END estimator__C=1, estimator__gamma=1, estimator__kernel=linear; total time=   0.5s\n",
      "[CV] END estimator__C=1, estimator__gamma=0.1, estimator__kernel=linear; total time=   0.6s\n",
      "[CV] END estimator__C=1, estimator__gamma=0.01, estimator__kernel=rbf; total time=   0.0s\n",
      "[CV] END estimator__C=1, estimator__gamma=0.01, estimator__kernel=rbf; total time=   0.0s\n",
      "[CV] END estimator__C=1, estimator__gamma=0.01, estimator__kernel=rbf; total time=   0.0s\n",
      "[CV] END estimator__C=1, estimator__gamma=0.01, estimator__kernel=linear; total time=   0.6s\n",
      "[CV] END estimator__C=1, estimator__gamma=1, estimator__kernel=linear; total time=   0.7s\n",
      "[CV] END estimator__C=1, estimator__gamma=0.1, estimator__kernel=linear; total time=   0.8s\n",
      "[CV] END estimator__C=1, estimator__gamma=0.001, estimator__kernel=rbf; total time=   0.0s\n",
      "[CV] END estimator__C=1, estimator__gamma=0.001, estimator__kernel=rbf; total time=   0.0s\n",
      "[CV] END estimator__C=1, estimator__gamma=0.001, estimator__kernel=rbf; total time=   0.0s\n"
     ]
    },
    {
     "name": "stderr",
     "output_type": "stream",
     "text": [
      "/opt/miniconda3/envs/tf_env/lib/python3.12/site-packages/sklearn/multiclass.py:90: UserWarning: Label not 3 is present in all training examples.\n",
      "  warnings.warn(\n",
      "/opt/miniconda3/envs/tf_env/lib/python3.12/site-packages/sklearn/multiclass.py:90: UserWarning: Label not 3 is present in all training examples.\n",
      "  warnings.warn(\n",
      "/opt/miniconda3/envs/tf_env/lib/python3.12/site-packages/sklearn/multiclass.py:90: UserWarning: Label not 3 is present in all training examples.\n",
      "  warnings.warn(\n",
      "/opt/miniconda3/envs/tf_env/lib/python3.12/site-packages/sklearn/multiclass.py:90: UserWarning: Label not 3 is present in all training examples.\n",
      "  warnings.warn(\n",
      "/opt/miniconda3/envs/tf_env/lib/python3.12/site-packages/sklearn/multiclass.py:90: UserWarning: Label not 3 is present in all training examples.\n",
      "  warnings.warn(\n"
     ]
    },
    {
     "name": "stdout",
     "output_type": "stream",
     "text": [
      "[CV] END estimator__C=1, estimator__gamma=0.001, estimator__kernel=linear; total time=   0.5s\n",
      "[CV] END estimator__C=1, estimator__gamma=1, estimator__kernel=linear; total time=   1.3s\n",
      "[CV] END estimator__C=1, estimator__gamma=0.01, estimator__kernel=linear; total time=   0.8s\n",
      "[CV] END estimator__C=10, estimator__gamma=1, estimator__kernel=rbf; total time=   0.0s\n",
      "[CV] END estimator__C=10, estimator__gamma=1, estimator__kernel=rbf; total time=   0.0s\n",
      "[CV] END estimator__C=10, estimator__gamma=1, estimator__kernel=rbf; total time=   0.0s\n",
      "[CV] END estimator__C=1, estimator__gamma=0.01, estimator__kernel=linear; total time=   1.3s\n",
      "[CV] END estimator__C=1, estimator__gamma=0.1, estimator__kernel=linear; total time=   1.4s\n",
      "[CV] END estimator__C=1, estimator__gamma=0.001, estimator__kernel=linear; total time=   0.8s\n",
      "[CV] END estimator__C=10, estimator__gamma=0.1, estimator__kernel=rbf; total time=   0.0s\n",
      "[CV] END estimator__C=10, estimator__gamma=0.1, estimator__kernel=rbf; total time=   0.0s\n",
      "[CV] END estimator__C=10, estimator__gamma=0.1, estimator__kernel=rbf; total time=   0.0s\n"
     ]
    },
    {
     "name": "stderr",
     "output_type": "stream",
     "text": [
      "/opt/miniconda3/envs/tf_env/lib/python3.12/site-packages/sklearn/multiclass.py:90: UserWarning: Label not 3 is present in all training examples.\n",
      "  warnings.warn(\n"
     ]
    },
    {
     "name": "stdout",
     "output_type": "stream",
     "text": [
      "[CV] END estimator__C=1, estimator__gamma=0.001, estimator__kernel=linear; total time=   1.3s\n"
     ]
    },
    {
     "name": "stderr",
     "output_type": "stream",
     "text": [
      "/opt/miniconda3/envs/tf_env/lib/python3.12/site-packages/sklearn/multiclass.py:90: UserWarning: Label not 3 is present in all training examples.\n",
      "  warnings.warn(\n",
      "/opt/miniconda3/envs/tf_env/lib/python3.12/site-packages/sklearn/multiclass.py:90: UserWarning: Label not 3 is present in all training examples.\n",
      "  warnings.warn(\n"
     ]
    },
    {
     "name": "stdout",
     "output_type": "stream",
     "text": [
      "[CV] END estimator__C=10, estimator__gamma=0.1, estimator__kernel=linear; total time=   3.8s\n",
      "[CV] END estimator__C=10, estimator__gamma=1, estimator__kernel=linear; total time=   4.0s\n",
      "[CV] END estimator__C=10, estimator__gamma=0.01, estimator__kernel=rbf; total time=   0.0s\n",
      "[CV] END estimator__C=10, estimator__gamma=0.01, estimator__kernel=rbf; total time=   0.0s\n",
      "[CV] END estimator__C=10, estimator__gamma=0.01, estimator__kernel=rbf; total time=   0.0s\n"
     ]
    },
    {
     "name": "stderr",
     "output_type": "stream",
     "text": [
      "/opt/miniconda3/envs/tf_env/lib/python3.12/site-packages/sklearn/multiclass.py:90: UserWarning: Label not 3 is present in all training examples.\n",
      "  warnings.warn(\n"
     ]
    },
    {
     "name": "stdout",
     "output_type": "stream",
     "text": [
      "[CV] END estimator__C=10, estimator__gamma=1, estimator__kernel=linear; total time=   4.3s\n"
     ]
    },
    {
     "name": "stderr",
     "output_type": "stream",
     "text": [
      "/opt/miniconda3/envs/tf_env/lib/python3.12/site-packages/sklearn/multiclass.py:90: UserWarning: Label not 3 is present in all training examples.\n",
      "  warnings.warn(\n",
      "/opt/miniconda3/envs/tf_env/lib/python3.12/site-packages/sklearn/multiclass.py:90: UserWarning: Label not 3 is present in all training examples.\n",
      "  warnings.warn(\n"
     ]
    },
    {
     "name": "stdout",
     "output_type": "stream",
     "text": [
      "[CV] END estimator__C=10, estimator__gamma=0.1, estimator__kernel=linear; total time=   4.4s\n",
      "[CV] END estimator__C=10, estimator__gamma=1, estimator__kernel=linear; total time=   5.0s\n",
      "[CV] END estimator__C=10, estimator__gamma=0.001, estimator__kernel=rbf; total time=   0.0s\n",
      "[CV] END estimator__C=10, estimator__gamma=0.001, estimator__kernel=rbf; total time=   0.0s\n",
      "[CV] END estimator__C=10, estimator__gamma=0.001, estimator__kernel=rbf; total time=   0.0s\n",
      "[CV] END estimator__C=10, estimator__gamma=0.01, estimator__kernel=linear; total time=   4.0s\n",
      "[CV] END estimator__C=10, estimator__gamma=0.1, estimator__kernel=linear; total time=   4.8s\n",
      "[CV] END estimator__C=10, estimator__gamma=0.01, estimator__kernel=linear; total time=   5.1s\n",
      "[CV] END estimator__C=100, estimator__gamma=1, estimator__kernel=rbf; total time=   0.0s\n",
      "[CV] END estimator__C=100, estimator__gamma=1, estimator__kernel=rbf; total time=   0.0s\n",
      "[CV] END estimator__C=100, estimator__gamma=1, estimator__kernel=rbf; total time=   0.0s\n"
     ]
    },
    {
     "name": "stderr",
     "output_type": "stream",
     "text": [
      "/opt/miniconda3/envs/tf_env/lib/python3.12/site-packages/sklearn/multiclass.py:90: UserWarning: Label not 3 is present in all training examples.\n",
      "  warnings.warn(\n",
      "/opt/miniconda3/envs/tf_env/lib/python3.12/site-packages/sklearn/multiclass.py:90: UserWarning: Label not 3 is present in all training examples.\n",
      "  warnings.warn(\n"
     ]
    },
    {
     "name": "stdout",
     "output_type": "stream",
     "text": [
      "[CV] END estimator__C=10, estimator__gamma=0.001, estimator__kernel=linear; total time=   3.8s\n",
      "[CV] END estimator__C=10, estimator__gamma=0.01, estimator__kernel=linear; total time=   4.4s\n",
      "[CV] END estimator__C=10, estimator__gamma=0.001, estimator__kernel=linear; total time=   4.9s\n",
      "[CV] END estimator__C=100, estimator__gamma=0.1, estimator__kernel=rbf; total time=   0.0s\n",
      "[CV] END estimator__C=100, estimator__gamma=0.1, estimator__kernel=rbf; total time=   0.0s\n",
      "[CV] END estimator__C=100, estimator__gamma=0.1, estimator__kernel=rbf; total time=   0.0s\n"
     ]
    },
    {
     "name": "stderr",
     "output_type": "stream",
     "text": [
      "/opt/miniconda3/envs/tf_env/lib/python3.12/site-packages/sklearn/multiclass.py:90: UserWarning: Label not 3 is present in all training examples.\n",
      "  warnings.warn(\n"
     ]
    },
    {
     "name": "stdout",
     "output_type": "stream",
     "text": [
      "[CV] END estimator__C=10, estimator__gamma=0.001, estimator__kernel=linear; total time=   4.6s\n",
      "[CV] END estimator__C=100, estimator__gamma=1, estimator__kernel=linear; total time=   9.6s\n"
     ]
    },
    {
     "name": "stderr",
     "output_type": "stream",
     "text": [
      "/opt/miniconda3/envs/tf_env/lib/python3.12/site-packages/sklearn/multiclass.py:90: UserWarning: Label not 3 is present in all training examples.\n",
      "  warnings.warn(\n"
     ]
    },
    {
     "name": "stdout",
     "output_type": "stream",
     "text": [
      "[CV] END estimator__C=100, estimator__gamma=1, estimator__kernel=linear; total time=  12.2s\n",
      "[CV] END estimator__C=100, estimator__gamma=0.01, estimator__kernel=rbf; total time=   0.0s\n",
      "[CV] END estimator__C=100, estimator__gamma=0.01, estimator__kernel=rbf; total time=   0.0s\n",
      "[CV] END estimator__C=100, estimator__gamma=0.01, estimator__kernel=rbf; total time=   0.0s\n"
     ]
    },
    {
     "name": "stderr",
     "output_type": "stream",
     "text": [
      "/opt/miniconda3/envs/tf_env/lib/python3.12/site-packages/sklearn/multiclass.py:90: UserWarning: Label not 3 is present in all training examples.\n",
      "  warnings.warn(\n"
     ]
    },
    {
     "name": "stdout",
     "output_type": "stream",
     "text": [
      "[CV] END estimator__C=100, estimator__gamma=0.1, estimator__kernel=linear; total time=   9.7s\n"
     ]
    },
    {
     "name": "stderr",
     "output_type": "stream",
     "text": [
      "/opt/miniconda3/envs/tf_env/lib/python3.12/site-packages/sklearn/multiclass.py:90: UserWarning: Label not 3 is present in all training examples.\n",
      "  warnings.warn(\n"
     ]
    },
    {
     "name": "stdout",
     "output_type": "stream",
     "text": [
      "[CV] END estimator__C=100, estimator__gamma=0.1, estimator__kernel=linear; total time=  12.6s\n"
     ]
    },
    {
     "name": "stderr",
     "output_type": "stream",
     "text": [
      "/opt/miniconda3/envs/tf_env/lib/python3.12/site-packages/sklearn/multiclass.py:90: UserWarning: Label not 3 is present in all training examples.\n",
      "  warnings.warn(\n"
     ]
    },
    {
     "name": "stdout",
     "output_type": "stream",
     "text": [
      "[CV] END estimator__C=100, estimator__gamma=0.01, estimator__kernel=linear; total time=  12.4s\n",
      "[CV] END estimator__C=100, estimator__gamma=0.001, estimator__kernel=rbf; total time=   0.0s\n",
      "[CV] END estimator__C=100, estimator__gamma=0.001, estimator__kernel=rbf; total time=   0.0s\n",
      "[CV] END estimator__C=100, estimator__gamma=0.001, estimator__kernel=rbf; total time=   0.0s\n"
     ]
    },
    {
     "name": "stderr",
     "output_type": "stream",
     "text": [
      "/opt/miniconda3/envs/tf_env/lib/python3.12/site-packages/sklearn/multiclass.py:90: UserWarning: Label not 3 is present in all training examples.\n",
      "  warnings.warn(\n"
     ]
    },
    {
     "name": "stdout",
     "output_type": "stream",
     "text": [
      "[CV] END estimator__C=100, estimator__gamma=1, estimator__kernel=linear; total time=  18.8s\n",
      "[CV] END estimator__C=100, estimator__gamma=0.01, estimator__kernel=linear; total time=   9.4s\n",
      "[CV] END estimator__C=100, estimator__gamma=0.1, estimator__kernel=linear; total time=  18.8s\n",
      "[CV] END estimator__C=100, estimator__gamma=0.01, estimator__kernel=linear; total time=  17.5s\n"
     ]
    },
    {
     "name": "stderr",
     "output_type": "stream",
     "text": [
      "/opt/miniconda3/envs/tf_env/lib/python3.12/site-packages/sklearn/multiclass.py:90: UserWarning: Label not 3 is present in all training examples.\n",
      "  warnings.warn(\n"
     ]
    },
    {
     "name": "stdout",
     "output_type": "stream",
     "text": [
      "[CV] END estimator__C=100, estimator__gamma=0.001, estimator__kernel=linear; total time=   7.6s\n",
      "[CV] END estimator__C=100, estimator__gamma=0.001, estimator__kernel=linear; total time=  10.3s\n",
      "[CV] END estimator__C=100, estimator__gamma=0.001, estimator__kernel=linear; total time=  15.1s\n",
      "最佳参数 (SVM): {'estimator__C': 10, 'estimator__gamma': 0.001, 'estimator__kernel': 'rbf'}\n",
      "优化后的支持向量机分类准确度: 0.56\n"
     ]
    }
   ],
   "source": [
    "from sklearn.model_selection import GridSearchCV, RandomizedSearchCV\n",
    "\n",
    "# 定义参数网格\n",
    "param_grid_svm = {\n",
    "    'estimator__C': [0.1, 1, 10, 100],\n",
    "    'estimator__gamma': [1, 0.1, 0.01, 0.001],\n",
    "    'estimator__kernel': ['linear', 'rbf']\n",
    "}\n",
    "\n",
    "# 使用GridSearchCV进行参数搜索\n",
    "grid_search_svm = GridSearchCV(estimator=OneVsRestClassifier(SVC(random_state=42)),\n",
    "                               param_grid=param_grid_svm,\n",
    "                               cv=3,\n",
    "                               n_jobs=-1,\n",
    "                               verbose=2)\n",
    "\n",
    "# 训练模型\n",
    "grid_search_svm.fit(X_train, y_train)\n",
    "\n",
    "# 输出最佳参数\n",
    "print(f\"最佳参数 (SVM): {grid_search_svm.best_params_}\")\n",
    "\n",
    "# 使用最佳参数进行预测\n",
    "best_svm = grid_search_svm.best_estimator_\n",
    "y_pred_best_svm = best_svm.predict(X_test)\n",
    "\n",
    "# 计算准确度\n",
    "accuracy_best_svm = accuracy_score(y_test, y_pred_best_svm)\n",
    "print(f\"优化后的支持向量机分类准确度: {accuracy_best_svm}\")"
   ]
  },
  {
   "cell_type": "code",
   "execution_count": null,
   "metadata": {},
   "outputs": [],
   "source": [
    "import torch\n",
    "import torch.nn as nn\n",
    "import torch.optim as optim\n",
    "from torch.utils.data import DataLoader, TensorDataset, random_split\n",
    "\n",
    "class Autoencoder(nn.Module):\n",
    "    def __init__(self):\n",
    "        super(Autoencoder, self).__init__()\n",
    "        self.encoder = nn.Sequential(\n",
    "            nn.Conv2d(3, 16, kernel_size=3, stride=2, padding=1),\n",
    "            nn.ReLU(),\n",
    "            nn.Conv2d(16, 32, kernel_size=3, stride=2, padding=1),\n",
    "            nn.ReLU(),\n",
    "            nn.Conv2d(32, 64, kernel_size=7)\n",
    "        )\n",
    "        self.decoder = nn.Sequential(\n",
    "            nn.ConvTranspose2d(64, 32, kernel_size=7),\n",
    "            nn.ReLU(),\n",
    "            nn.ConvTranspose2d(32, 16, kernel_size=3, stride=2, padding=1, output_padding=1),\n",
    "            nn.ReLU(),\n",
    "            nn.ConvTranspose2d(16, 3, kernel_size=3, stride=2, padding=1, output_padding=1),\n",
    "            nn.Sigmoid()\n",
    "        )\n",
    "    \n",
    "    def forward(self, x):\n",
    "        x = self.encoder(x)\n",
    "        x = self.decoder(x)\n",
    "        return x\n",
    "\n",
    "# 转换数据为Tensor\n",
    "X = torch.tensor(images).permute(0, 3, 1, 2).float() / 255.0  # 归一化到[0,1]\n",
    "y = torch.tensor(bug_type_encoded).float()\n",
    "\n",
    "# 创建数据集和数据加载器\n",
    "dataset = TensorDataset(X, y)\n",
    "train_size = int(0.8 * len(dataset))\n",
    "test_size = len(dataset) - train_size\n",
    "train_dataset, test_dataset = random_split(dataset, [train_size, test_size])\n",
    "train_loader = DataLoader(train_dataset, batch_size=32, shuffle=True)\n",
    "test_loader = DataLoader(test_dataset, batch_size=32, shuffle=False)\n",
    "\n",
    "# 初始化模型和优化器\n",
    "autoencoder = Autoencoder()\n",
    "criterion = nn.MSELoss()\n",
    "optimizer = optim.Adam(autoencoder.parameters(), lr=0.001)"
   ]
  },
  {
   "cell_type": "code",
   "execution_count": null,
   "metadata": {},
   "outputs": [],
   "source": [
    "# 训练模型\n",
    "num_epochs = 20\n",
    "for epoch in range(num_epochs):\n",
    "    autoencoder.train()\n",
    "    train_loss = 0\n",
    "    for data in train_loader:\n",
    "        inputs, _ = data\n",
    "        optimizer.zero_grad()\n",
    "        outputs = autoencoder(inputs)\n",
    "        loss = criterion(outputs, inputs)\n",
    "        loss.backward()\n",
    "        optimizer.step()\n",
    "        train_loss += loss.item()\n",
    "    print(f\"Epoch {epoch+1}/{num_epochs}, Loss: {train_loss/len(train_loader)}\")"
   ]
  },
  {
   "cell_type": "code",
   "execution_count": null,
   "metadata": {},
   "outputs": [],
   "source": [
    "# 提取编码器部分用于特征提取\n",
    "encoded_data = []\n",
    "labels = []\n",
    "autoencoder.eval()\n",
    "with torch.no_grad():\n",
    "    for data in test_loader:\n",
    "        inputs, targets = data\n",
    "        encoded = autoencoder.encoder(inputs)\n",
    "        encoded = encoded.view(encoded.size(0), -1)  # 展平为二维\n",
    "        encoded_data.append(encoded)\n",
    "        labels.append(targets)\n",
    "\n",
    "encoded_data = torch.cat(encoded_data)\n",
    "labels = torch.cat(labels)\n",
    "\n",
    "# 转换为numpy数组\n",
    "encoded_data_np = encoded_data.numpy()\n",
    "labels_np = labels.numpy()\n",
    "\n",
    "# 训练分类器\n",
    "rf_classifier = RandomForestClassifier(n_estimators=100, random_state=42)\n",
    "rf_classifier.fit(encoded_data_np, labels_np)\n",
    "\n",
    "# 预测和评估\n",
    "y_pred_rf = rf_classifier.predict(encoded_data_np)\n",
    "accuracy_rf = accuracy_score(labels_np, y_pred_rf)\n",
    "print(f\"Autoencoder + Random Forest - Accuracy: {accuracy_rf}\")"
   ]
  },
  {
   "cell_type": "code",
   "execution_count": 9,
   "metadata": {
    "ExecuteTime": {
     "end_time": "2024-05-29T19:55:26.816083Z",
     "start_time": "2024-05-29T19:55:25.162411Z"
    }
   },
   "outputs": [
    {
     "ename": "TypeError",
     "evalue": "__call__() got an unexpected keyword argument 'image'",
     "output_type": "error",
     "traceback": [
      "\u001b[1;31m---------------------------------------------------------------------------\u001b[0m",
      "\u001b[1;31mTypeError\u001b[0m                                 Traceback (most recent call last)",
      "Cell \u001b[1;32mIn[9], line 84\u001b[0m\n\u001b[0;32m     82\u001b[0m \u001b[38;5;28;01mfor\u001b[39;00m epoch \u001b[38;5;129;01min\u001b[39;00m \u001b[38;5;28mrange\u001b[39m(num_epochs):\n\u001b[0;32m     83\u001b[0m     running_loss \u001b[38;5;241m=\u001b[39m \u001b[38;5;241m0.0\u001b[39m\n\u001b[1;32m---> 84\u001b[0m     \u001b[38;5;28;01mfor\u001b[39;00m images, labels \u001b[38;5;129;01min\u001b[39;00m train_loader:\n\u001b[0;32m     85\u001b[0m         optimizer\u001b[38;5;241m.\u001b[39mzero_grad()\n\u001b[0;32m     86\u001b[0m         outputs \u001b[38;5;241m=\u001b[39m model(images)\n",
      "File \u001b[1;32m~\\anaconda3\\envs\\cv\\lib\\site-packages\\torch\\utils\\data\\dataloader.py:631\u001b[0m, in \u001b[0;36m_BaseDataLoaderIter.__next__\u001b[1;34m(self)\u001b[0m\n\u001b[0;32m    628\u001b[0m \u001b[38;5;28;01mif\u001b[39;00m \u001b[38;5;28mself\u001b[39m\u001b[38;5;241m.\u001b[39m_sampler_iter \u001b[38;5;129;01mis\u001b[39;00m \u001b[38;5;28;01mNone\u001b[39;00m:\n\u001b[0;32m    629\u001b[0m     \u001b[38;5;66;03m# TODO(https://github.com/pytorch/pytorch/issues/76750)\u001b[39;00m\n\u001b[0;32m    630\u001b[0m     \u001b[38;5;28mself\u001b[39m\u001b[38;5;241m.\u001b[39m_reset()  \u001b[38;5;66;03m# type: ignore[call-arg]\u001b[39;00m\n\u001b[1;32m--> 631\u001b[0m data \u001b[38;5;241m=\u001b[39m \u001b[38;5;28;43mself\u001b[39;49m\u001b[38;5;241;43m.\u001b[39;49m\u001b[43m_next_data\u001b[49m\u001b[43m(\u001b[49m\u001b[43m)\u001b[49m\n\u001b[0;32m    632\u001b[0m \u001b[38;5;28mself\u001b[39m\u001b[38;5;241m.\u001b[39m_num_yielded \u001b[38;5;241m+\u001b[39m\u001b[38;5;241m=\u001b[39m \u001b[38;5;241m1\u001b[39m\n\u001b[0;32m    633\u001b[0m \u001b[38;5;28;01mif\u001b[39;00m \u001b[38;5;28mself\u001b[39m\u001b[38;5;241m.\u001b[39m_dataset_kind \u001b[38;5;241m==\u001b[39m _DatasetKind\u001b[38;5;241m.\u001b[39mIterable \u001b[38;5;129;01mand\u001b[39;00m \\\n\u001b[0;32m    634\u001b[0m         \u001b[38;5;28mself\u001b[39m\u001b[38;5;241m.\u001b[39m_IterableDataset_len_called \u001b[38;5;129;01mis\u001b[39;00m \u001b[38;5;129;01mnot\u001b[39;00m \u001b[38;5;28;01mNone\u001b[39;00m \u001b[38;5;129;01mand\u001b[39;00m \\\n\u001b[0;32m    635\u001b[0m         \u001b[38;5;28mself\u001b[39m\u001b[38;5;241m.\u001b[39m_num_yielded \u001b[38;5;241m>\u001b[39m \u001b[38;5;28mself\u001b[39m\u001b[38;5;241m.\u001b[39m_IterableDataset_len_called:\n",
      "File \u001b[1;32m~\\anaconda3\\envs\\cv\\lib\\site-packages\\torch\\utils\\data\\dataloader.py:675\u001b[0m, in \u001b[0;36m_SingleProcessDataLoaderIter._next_data\u001b[1;34m(self)\u001b[0m\n\u001b[0;32m    673\u001b[0m \u001b[38;5;28;01mdef\u001b[39;00m \u001b[38;5;21m_next_data\u001b[39m(\u001b[38;5;28mself\u001b[39m):\n\u001b[0;32m    674\u001b[0m     index \u001b[38;5;241m=\u001b[39m \u001b[38;5;28mself\u001b[39m\u001b[38;5;241m.\u001b[39m_next_index()  \u001b[38;5;66;03m# may raise StopIteration\u001b[39;00m\n\u001b[1;32m--> 675\u001b[0m     data \u001b[38;5;241m=\u001b[39m \u001b[38;5;28;43mself\u001b[39;49m\u001b[38;5;241;43m.\u001b[39;49m\u001b[43m_dataset_fetcher\u001b[49m\u001b[38;5;241;43m.\u001b[39;49m\u001b[43mfetch\u001b[49m\u001b[43m(\u001b[49m\u001b[43mindex\u001b[49m\u001b[43m)\u001b[49m  \u001b[38;5;66;03m# may raise StopIteration\u001b[39;00m\n\u001b[0;32m    676\u001b[0m     \u001b[38;5;28;01mif\u001b[39;00m \u001b[38;5;28mself\u001b[39m\u001b[38;5;241m.\u001b[39m_pin_memory:\n\u001b[0;32m    677\u001b[0m         data \u001b[38;5;241m=\u001b[39m _utils\u001b[38;5;241m.\u001b[39mpin_memory\u001b[38;5;241m.\u001b[39mpin_memory(data, \u001b[38;5;28mself\u001b[39m\u001b[38;5;241m.\u001b[39m_pin_memory_device)\n",
      "File \u001b[1;32m~\\anaconda3\\envs\\cv\\lib\\site-packages\\torch\\utils\\data\\_utils\\fetch.py:51\u001b[0m, in \u001b[0;36m_MapDatasetFetcher.fetch\u001b[1;34m(self, possibly_batched_index)\u001b[0m\n\u001b[0;32m     49\u001b[0m         data \u001b[38;5;241m=\u001b[39m \u001b[38;5;28mself\u001b[39m\u001b[38;5;241m.\u001b[39mdataset\u001b[38;5;241m.\u001b[39m__getitems__(possibly_batched_index)\n\u001b[0;32m     50\u001b[0m     \u001b[38;5;28;01melse\u001b[39;00m:\n\u001b[1;32m---> 51\u001b[0m         data \u001b[38;5;241m=\u001b[39m [\u001b[38;5;28mself\u001b[39m\u001b[38;5;241m.\u001b[39mdataset[idx] \u001b[38;5;28;01mfor\u001b[39;00m idx \u001b[38;5;129;01min\u001b[39;00m possibly_batched_index]\n\u001b[0;32m     52\u001b[0m \u001b[38;5;28;01melse\u001b[39;00m:\n\u001b[0;32m     53\u001b[0m     data \u001b[38;5;241m=\u001b[39m \u001b[38;5;28mself\u001b[39m\u001b[38;5;241m.\u001b[39mdataset[possibly_batched_index]\n",
      "File \u001b[1;32m~\\anaconda3\\envs\\cv\\lib\\site-packages\\torch\\utils\\data\\_utils\\fetch.py:51\u001b[0m, in \u001b[0;36m<listcomp>\u001b[1;34m(.0)\u001b[0m\n\u001b[0;32m     49\u001b[0m         data \u001b[38;5;241m=\u001b[39m \u001b[38;5;28mself\u001b[39m\u001b[38;5;241m.\u001b[39mdataset\u001b[38;5;241m.\u001b[39m__getitems__(possibly_batched_index)\n\u001b[0;32m     50\u001b[0m     \u001b[38;5;28;01melse\u001b[39;00m:\n\u001b[1;32m---> 51\u001b[0m         data \u001b[38;5;241m=\u001b[39m [\u001b[38;5;28;43mself\u001b[39;49m\u001b[38;5;241;43m.\u001b[39;49m\u001b[43mdataset\u001b[49m\u001b[43m[\u001b[49m\u001b[43midx\u001b[49m\u001b[43m]\u001b[49m \u001b[38;5;28;01mfor\u001b[39;00m idx \u001b[38;5;129;01min\u001b[39;00m possibly_batched_index]\n\u001b[0;32m     52\u001b[0m \u001b[38;5;28;01melse\u001b[39;00m:\n\u001b[0;32m     53\u001b[0m     data \u001b[38;5;241m=\u001b[39m \u001b[38;5;28mself\u001b[39m\u001b[38;5;241m.\u001b[39mdataset[possibly_batched_index]\n",
      "Cell \u001b[1;32mIn[9], line 34\u001b[0m, in \u001b[0;36mBeeDataset.__getitem__\u001b[1;34m(self, idx)\u001b[0m\n\u001b[0;32m     31\u001b[0m mask \u001b[38;5;241m=\u001b[39m cv2\u001b[38;5;241m.\u001b[39mimread(mask_path, cv2\u001b[38;5;241m.\u001b[39mIMREAD_GRAYSCALE)\n\u001b[0;32m     33\u001b[0m \u001b[38;5;28;01mif\u001b[39;00m \u001b[38;5;28mself\u001b[39m\u001b[38;5;241m.\u001b[39mtransform:\n\u001b[1;32m---> 34\u001b[0m     augmented \u001b[38;5;241m=\u001b[39m \u001b[38;5;28;43mself\u001b[39;49m\u001b[38;5;241;43m.\u001b[39;49m\u001b[43mtransform\u001b[49m\u001b[43m(\u001b[49m\u001b[43mimage\u001b[49m\u001b[38;5;241;43m=\u001b[39;49m\u001b[43mimage\u001b[49m\u001b[43m,\u001b[49m\u001b[43m \u001b[49m\u001b[43mmask\u001b[49m\u001b[38;5;241;43m=\u001b[39;49m\u001b[43mmask\u001b[49m\u001b[43m)\u001b[49m\n\u001b[0;32m     35\u001b[0m     image \u001b[38;5;241m=\u001b[39m augmented[\u001b[38;5;124m'\u001b[39m\u001b[38;5;124mimage\u001b[39m\u001b[38;5;124m'\u001b[39m]\n\u001b[0;32m     36\u001b[0m     mask \u001b[38;5;241m=\u001b[39m augmented[\u001b[38;5;124m'\u001b[39m\u001b[38;5;124mmask\u001b[39m\u001b[38;5;124m'\u001b[39m]\n",
      "\u001b[1;31mTypeError\u001b[0m: __call__() got an unexpected keyword argument 'image'"
     ]
    }
   ],
   "source": [
    "import os\n",
    "import cv2\n",
    "import numpy as np\n",
    "import pandas as pd\n",
    "from sklearn.model_selection import train_test_split\n",
    "import torch\n",
    "import torch.nn as nn\n",
    "import torch.optim as optim\n",
    "from torch.utils.data import DataLoader, Dataset\n",
    "from torchvision import transforms\n",
    "\n",
    "# 定义数据集类\n",
    "class BeeDataset(Dataset):\n",
    "    def __init__(self, img_dir, mask_dir, labels, transform=None):\n",
    "        self.img_dir = img_dir\n",
    "        self.mask_dir = mask_dir\n",
    "        self.labels = labels\n",
    "        self.transform = transform\n",
    "        self.image_ids = list(labels.index)\n",
    "\n",
    "    def __len__(self):\n",
    "        return len(self.image_ids)\n",
    "\n",
    "    def __getitem__(self, idx):\n",
    "        img_id = self.image_ids[idx]\n",
    "        img_path = os.path.join(self.img_dir, f\"{img_id}.jpg\")\n",
    "        mask_path = os.path.join(self.mask_dir, f\"binary_{img_id}.tif\")\n",
    "\n",
    "        image = cv2.imread(img_path)\n",
    "        image = cv2.cvtColor(image, cv2.COLOR_BGR2RGB)\n",
    "        mask = cv2.imread(mask_path, cv2.IMREAD_GRAYSCALE)\n",
    "\n",
    "        if self.transform:\n",
    "            augmented = self.transform(image=image, mask=mask)\n",
    "            image = augmented['image']\n",
    "            mask = augmented['mask']\n",
    "\n",
    "        label = self.labels.iloc[idx]\n",
    "        return image, label\n",
    "\n",
    "# 定义数据增强和预处理\n",
    "data_transforms = transforms.Compose([\n",
    "    transforms.ToPILImage(),\n",
    "    transforms.Resize((128, 128)),\n",
    "    transforms.ToTensor()\n",
    "])\n",
    "\n",
    "# 加载标签数据\n",
    "labels_df = pd.read_excel('train/classif.xlsx')\n",
    "labels_df['ID'] = labels_df.index + 1\n",
    "\n",
    "# 创建数据集和数据加载器\n",
    "train_dataset = BeeDataset(img_dir='train', mask_dir='train/masks', labels=labels_df, transform=data_transforms)\n",
    "train_loader = DataLoader(train_dataset, batch_size=32, shuffle=True)\n",
    "\n",
    "class SimpleCNN(nn.Module):\n",
    "    def __init__(self, num_classes):\n",
    "        super(SimpleCNN, self).__init__()\n",
    "        self.conv1 = nn.Conv2d(3, 32, kernel_size=3, stride=1, padding=1)\n",
    "        self.conv2 = nn.Conv2d(32, 64, kernel_size=3, stride=1, padding=1)\n",
    "        self.pool = nn.MaxPool2d(kernel_size=2, stride=2, padding=0)\n",
    "        self.fc1 = nn.Linear(64 * 32 * 32, 128)\n",
    "        self.fc2 = nn.Linear(128, num_classes)\n",
    "\n",
    "    def forward(self, x):\n",
    "        x = self.pool(F.relu(self.conv1(x)))\n",
    "        x = self.pool(F.relu(self.conv2(x)))\n",
    "        x = x.view(-1, 64 * 32 * 32)\n",
    "        x = F.relu(self.fc1(x))\n",
    "        x = self.fc2(x)\n",
    "        return x\n",
    "\n",
    "num_classes = len(labels_df['bug_type'].unique())\n",
    "model = SimpleCNN(num_classes=num_classes)\n",
    "criterion = nn.CrossEntropyLoss()\n",
    "optimizer = optim.Adam(model.parameters(), lr=0.001)\n",
    "\n",
    "# 训练模型\n",
    "num_epochs = 10\n",
    "model.train()\n",
    "\n",
    "for epoch in range(num_epochs):\n",
    "    running_loss = 0.0\n",
    "    for images, labels in train_loader:\n",
    "        optimizer.zero_grad()\n",
    "        outputs = model(images)\n",
    "        loss = criterion(outputs, labels)\n",
    "        loss.backward()\n",
    "        optimizer.step()\n",
    "        running_loss += loss.item()\n",
    "    print(f\"Epoch {epoch+1}, Loss: {running_loss/len(train_loader)}\")\n",
    "\n",
    "# 评估模型\n",
    "model.eval()\n",
    "correct = 0\n",
    "total = 0\n",
    "\n",
    "with torch.no_grad():\n",
    "    for images, labels in train_loader:\n",
    "        outputs = model(images)\n",
    "        _, predicted = torch.max(outputs, 1)\n",
    "        total += labels.size(0)\n",
    "        correct += (predicted == labels).sum().item()\n",
    "\n",
    "accuracy = correct / total\n",
    "print(f\"CNN Accuracy: {accuracy}\")\n"
   ]
  }
 ],
 "metadata": {
  "kernelspec": {
   "display_name": "Python 3",
   "language": "python",
   "name": "python3"
  },
  "language_info": {
   "codemirror_mode": {
    "name": "ipython",
    "version": 3
   },
   "file_extension": ".py",
   "mimetype": "text/x-python",
   "name": "python",
   "nbconvert_exporter": "python",
   "pygments_lexer": "ipython3",
   "version": "3.12.3"
  }
 },
 "nbformat": 4,
 "nbformat_minor": 2
}
